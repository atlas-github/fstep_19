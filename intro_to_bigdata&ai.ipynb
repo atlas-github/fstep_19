{
  "nbformat": 4,
  "nbformat_minor": 0,
  "metadata": {
    "colab": {
      "name": "intro_to_bigdata&ai.ipynb",
      "provenance": [],
      "toc_visible": true,
      "authorship_tag": "ABX9TyOfxC8ZlNPmE0sIdDj4rU6V",
      "include_colab_link": true
    },
    "kernelspec": {
      "name": "python3",
      "display_name": "Python 3"
    }
  },
  "cells": [
    {
      "cell_type": "markdown",
      "metadata": {
        "id": "view-in-github",
        "colab_type": "text"
      },
      "source": [
        "<a href=\"https://colab.research.google.com/github/atlas-github/fstep_19/blob/master/intro_to_bigdata%26ai.ipynb\" target=\"_parent\"><img src=\"https://colab.research.google.com/assets/colab-badge.svg\" alt=\"Open In Colab\"/></a>"
      ]
    },
    {
      "cell_type": "markdown",
      "metadata": {
        "id": "DfWBPa3JyJTy",
        "colab_type": "text"
      },
      "source": [
        "#Setup"
      ]
    },
    {
      "cell_type": "markdown",
      "metadata": {
        "id": "AdeVMuy-yReP",
        "colab_type": "text"
      },
      "source": [
        "1. What is Google Colab?\n",
        "2. Click Connect\n",
        "3. Try uploading a document\n",
        "4. Explain Runtime types\n",
        "5. Try a few settings"
      ]
    },
    {
      "cell_type": "markdown",
      "metadata": {
        "id": "1W6EGd50yuH4",
        "colab_type": "text"
      },
      "source": [
        "#Upload and view a spreadsheet"
      ]
    },
    {
      "cell_type": "code",
      "metadata": {
        "id": "3gRC2h_fxrvf",
        "colab_type": "code",
        "colab": {
          "base_uri": "https://localhost:8080/",
          "height": 419
        },
        "outputId": "5ae26bac-9e41-4479-cf91-43442e7eac11"
      },
      "source": [
        "import pandas as pd\n",
        "df = pd.read_csv(\"sample-users.csv\")\n",
        "df"
      ],
      "execution_count": 3,
      "outputs": [
        {
          "output_type": "execute_result",
          "data": {
            "text/html": [
              "<div>\n",
              "<style scoped>\n",
              "    .dataframe tbody tr th:only-of-type {\n",
              "        vertical-align: middle;\n",
              "    }\n",
              "\n",
              "    .dataframe tbody tr th {\n",
              "        vertical-align: top;\n",
              "    }\n",
              "\n",
              "    .dataframe thead th {\n",
              "        text-align: right;\n",
              "    }\n",
              "</style>\n",
              "<table border=\"1\" class=\"dataframe\">\n",
              "  <thead>\n",
              "    <tr style=\"text-align: right;\">\n",
              "      <th></th>\n",
              "      <th>user_id</th>\n",
              "      <th>birth_year</th>\n",
              "      <th>country</th>\n",
              "      <th>user_settings</th>\n",
              "      <th>plan</th>\n",
              "    </tr>\n",
              "  </thead>\n",
              "  <tbody>\n",
              "    <tr>\n",
              "      <th>0</th>\n",
              "      <td>user_0</td>\n",
              "      <td>1989</td>\n",
              "      <td>Poland</td>\n",
              "      <td>1</td>\n",
              "      <td>Regular</td>\n",
              "    </tr>\n",
              "    <tr>\n",
              "      <th>1</th>\n",
              "      <td>user_1</td>\n",
              "      <td>1975</td>\n",
              "      <td>United Kingdom</td>\n",
              "      <td>0</td>\n",
              "      <td>Regular</td>\n",
              "    </tr>\n",
              "    <tr>\n",
              "      <th>2</th>\n",
              "      <td>user_2</td>\n",
              "      <td>1987</td>\n",
              "      <td>Poland</td>\n",
              "      <td>0</td>\n",
              "      <td>Regular</td>\n",
              "    </tr>\n",
              "    <tr>\n",
              "      <th>3</th>\n",
              "      <td>user_3</td>\n",
              "      <td>1994</td>\n",
              "      <td>France</td>\n",
              "      <td>0</td>\n",
              "      <td>Regular</td>\n",
              "    </tr>\n",
              "    <tr>\n",
              "      <th>4</th>\n",
              "      <td>user_4</td>\n",
              "      <td>1985</td>\n",
              "      <td>United Kingdom</td>\n",
              "      <td>0</td>\n",
              "      <td>Regular</td>\n",
              "    </tr>\n",
              "    <tr>\n",
              "      <th>...</th>\n",
              "      <td>...</td>\n",
              "      <td>...</td>\n",
              "      <td>...</td>\n",
              "      <td>...</td>\n",
              "      <td>...</td>\n",
              "    </tr>\n",
              "    <tr>\n",
              "      <th>16271</th>\n",
              "      <td>user_19425</td>\n",
              "      <td>1994</td>\n",
              "      <td>Ireland</td>\n",
              "      <td>0</td>\n",
              "      <td>Regular</td>\n",
              "    </tr>\n",
              "    <tr>\n",
              "      <th>16272</th>\n",
              "      <td>user_19426</td>\n",
              "      <td>1977</td>\n",
              "      <td>Estonia</td>\n",
              "      <td>0</td>\n",
              "      <td>Regular</td>\n",
              "    </tr>\n",
              "    <tr>\n",
              "      <th>16273</th>\n",
              "      <td>user_19427</td>\n",
              "      <td>1991</td>\n",
              "      <td>Poland</td>\n",
              "      <td>0</td>\n",
              "      <td>Regular</td>\n",
              "    </tr>\n",
              "    <tr>\n",
              "      <th>16274</th>\n",
              "      <td>user_19428</td>\n",
              "      <td>1984</td>\n",
              "      <td>United Kingdom</td>\n",
              "      <td>0</td>\n",
              "      <td>Regular</td>\n",
              "    </tr>\n",
              "    <tr>\n",
              "      <th>16275</th>\n",
              "      <td>user_19429</td>\n",
              "      <td>1995</td>\n",
              "      <td>Romania</td>\n",
              "      <td>0</td>\n",
              "      <td>Regular</td>\n",
              "    </tr>\n",
              "  </tbody>\n",
              "</table>\n",
              "<p>16276 rows × 5 columns</p>\n",
              "</div>"
            ],
            "text/plain": [
              "          user_id  birth_year         country  user_settings     plan\n",
              "0          user_0        1989          Poland              1  Regular\n",
              "1          user_1        1975  United Kingdom              0  Regular\n",
              "2          user_2        1987          Poland              0  Regular\n",
              "3          user_3        1994          France              0  Regular\n",
              "4          user_4        1985  United Kingdom              0  Regular\n",
              "...           ...         ...             ...            ...      ...\n",
              "16271  user_19425        1994         Ireland              0  Regular\n",
              "16272  user_19426        1977         Estonia              0  Regular\n",
              "16273  user_19427        1991          Poland              0  Regular\n",
              "16274  user_19428        1984  United Kingdom              0  Regular\n",
              "16275  user_19429        1995         Romania              0  Regular\n",
              "\n",
              "[16276 rows x 5 columns]"
            ]
          },
          "metadata": {
            "tags": []
          },
          "execution_count": 3
        }
      ]
    },
    {
      "cell_type": "markdown",
      "metadata": {
        "id": "sTNxgICd1sZv",
        "colab_type": "text"
      },
      "source": [
        "#Build a simple [pivot table](https://pandas.pydata.org/pandas-docs/stable/reference/api/pandas.pivot_table.html)\n"
      ]
    },
    {
      "cell_type": "code",
      "metadata": {
        "id": "4oyN-UiyyJ8G",
        "colab_type": "code",
        "colab": {
          "base_uri": "https://localhost:8080/",
          "height": 390
        },
        "outputId": "04ed6d47-e450-40cf-9353-5316f5f40bb1"
      },
      "source": [
        "import numpy as np \n",
        "\n",
        "table = pd.pivot_table(df, index = ['country'], values = 'user_settings', columns = ['plan'], aggfunc = 'count')\n",
        "table"
      ],
      "execution_count": 26,
      "outputs": [
        {
          "output_type": "execute_result",
          "data": {
            "text/html": [
              "<div>\n",
              "<style scoped>\n",
              "    .dataframe tbody tr th:only-of-type {\n",
              "        vertical-align: middle;\n",
              "    }\n",
              "\n",
              "    .dataframe tbody tr th {\n",
              "        vertical-align: top;\n",
              "    }\n",
              "\n",
              "    .dataframe thead th {\n",
              "        text-align: right;\n",
              "    }\n",
              "</style>\n",
              "<table border=\"1\" class=\"dataframe\">\n",
              "  <thead>\n",
              "    <tr style=\"text-align: right;\">\n",
              "      <th>plan</th>\n",
              "      <th>Premium</th>\n",
              "      <th>Regular</th>\n",
              "      <th>Special</th>\n",
              "    </tr>\n",
              "    <tr>\n",
              "      <th>country</th>\n",
              "      <th></th>\n",
              "      <th></th>\n",
              "      <th></th>\n",
              "    </tr>\n",
              "  </thead>\n",
              "  <tbody>\n",
              "    <tr>\n",
              "      <th>Denmark</th>\n",
              "      <td>22</td>\n",
              "      <td>409</td>\n",
              "      <td>15</td>\n",
              "    </tr>\n",
              "    <tr>\n",
              "      <th>Estonia</th>\n",
              "      <td>31</td>\n",
              "      <td>939</td>\n",
              "      <td>21</td>\n",
              "    </tr>\n",
              "    <tr>\n",
              "      <th>France</th>\n",
              "      <td>101</td>\n",
              "      <td>1925</td>\n",
              "      <td>84</td>\n",
              "    </tr>\n",
              "    <tr>\n",
              "      <th>Ireland</th>\n",
              "      <td>41</td>\n",
              "      <td>1137</td>\n",
              "      <td>36</td>\n",
              "    </tr>\n",
              "    <tr>\n",
              "      <th>Lithuania</th>\n",
              "      <td>10</td>\n",
              "      <td>630</td>\n",
              "      <td>6</td>\n",
              "    </tr>\n",
              "    <tr>\n",
              "      <th>Malta</th>\n",
              "      <td>17</td>\n",
              "      <td>510</td>\n",
              "      <td>21</td>\n",
              "    </tr>\n",
              "    <tr>\n",
              "      <th>Poland</th>\n",
              "      <td>41</td>\n",
              "      <td>2231</td>\n",
              "      <td>34</td>\n",
              "    </tr>\n",
              "    <tr>\n",
              "      <th>Portugal</th>\n",
              "      <td>16</td>\n",
              "      <td>577</td>\n",
              "      <td>11</td>\n",
              "    </tr>\n",
              "    <tr>\n",
              "      <th>Romania</th>\n",
              "      <td>78</td>\n",
              "      <td>966</td>\n",
              "      <td>52</td>\n",
              "    </tr>\n",
              "    <tr>\n",
              "      <th>United Kingdom</th>\n",
              "      <td>357</td>\n",
              "      <td>5809</td>\n",
              "      <td>149</td>\n",
              "    </tr>\n",
              "  </tbody>\n",
              "</table>\n",
              "</div>"
            ],
            "text/plain": [
              "plan            Premium  Regular  Special\n",
              "country                                  \n",
              "Denmark              22      409       15\n",
              "Estonia              31      939       21\n",
              "France              101     1925       84\n",
              "Ireland              41     1137       36\n",
              "Lithuania            10      630        6\n",
              "Malta                17      510       21\n",
              "Poland               41     2231       34\n",
              "Portugal             16      577       11\n",
              "Romania              78      966       52\n",
              "United Kingdom      357     5809      149"
            ]
          },
          "metadata": {
            "tags": []
          },
          "execution_count": 26
        }
      ]
    }
  ]
}